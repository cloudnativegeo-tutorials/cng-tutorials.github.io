{
  "cells": [
    {
      "cell_type": "markdown",
      "metadata": {},
      "source": [
        "# \n",
        "\n",
        "> **How to run this tutorial**\n",
        ">\n",
        "> In order to run the code in this tutorial, you can either download the\n",
        "> notebook to run it on your local computer, or click the button below\n",
        "> to run the tutorial in a GitHub Codespace.\n",
        ">\n",
        "> [![](https://github.com/codespaces/badge.svg)](https://github.com/codespaces/new?hide_repo_select=true&skip_quickstart=true&ref=main&repo=968878810&geo=UsWest&machine=basicLinux32gb)\n",
        "\n",
        "## Reading Data from the STAC API\n",
        "\n",
        "The Planetary Computer catalogs the datasets we host using the\n",
        "[STAC](http://stacspec.org/) (SpatioTemporal Asset Catalog)\n",
        "specification. We provide a [STAC\n",
        "API](https://github.com/radiantearth/stac-api-spec) endpoint that can be\n",
        "used to search our datasets by space, time, and more. This quickstart\n",
        "will show you how to search for data using our STAC API and open-source\n",
        "Python libraries. For more on how to use our STAC API from R, see\n",
        "[Reading data from the STAC API with\n",
        "R](https://planetarycomputer.microsoft.com/docs/quickstarts/reading-stac-r/).\n",
        "\n",
        "First we’ll use pystac-client to open up our STAC API:"
      ],
      "id": "c6a9e1b9-e4e2-4988-bfd8-b5260f9a7719"
    },
    {
      "cell_type": "code",
      "execution_count": null,
      "metadata": {},
      "outputs": [],
      "source": [
        "from pystac_client import Client\n",
        "\n",
        "catalog = Client.open(\"https://planetarycomputer.microsoft.com/api/stac/v1\")"
      ],
      "id": "3"
    },
    {
      "cell_type": "markdown",
      "metadata": {},
      "source": [
        "### Searching\n",
        "\n",
        "We can use the STAC API to search for assets meeting some criteria. This\n",
        "might include the date and time the asset covers, is spatial extent, or\n",
        "any other property captured in the STAC item’s metadata.\n",
        "\n",
        "In this example we’ll search for imagery from [Landsat Collection 2\n",
        "Level-2](https://planetarycomputer.microsoft.com/dataset/landsat-c2-l2)\n",
        "area around Microsoft’s main campus in December of 2020."
      ],
      "id": "7df19195-bb94-4436-960d-0e944ae5a4ce"
    },
    {
      "cell_type": "code",
      "execution_count": null,
      "metadata": {
        "outputId": "2145590e-5c69-48a7-d4cc-6dad34e326e7"
      },
      "outputs": [],
      "source": [
        "time_range = \"2020-12-01/2020-12-31\"\n",
        "bbox = [-122.2751, 47.5469, -121.9613, 47.7458]\n",
        "\n",
        "search = catalog.search(collections=[\"landsat-8-c2-l2\"], bbox=bbox, datetime=time_range)\n",
        "items = search.get_all_items()\n",
        "len(items)"
      ],
      "id": "5"
    },
    {
      "cell_type": "markdown",
      "metadata": {},
      "source": [
        "In that example our spatial query used a bounding box with a `bbox`.\n",
        "Alternatively, you can pass a GeoJSON object as `intersects`\n",
        "\n",
        "``` python\n",
        "area_of_interest = {\n",
        "    \"type\": \"Polygon\",\n",
        "    \"coordinates\": [\n",
        "        [\n",
        "            [-122.2751, 47.5469],\n",
        "            [-121.9613, 47.9613],\n",
        "            [-121.9613, 47.9613],\n",
        "            [-122.2751, 47.9613],\n",
        "            [-122.2751, 47.5469],\n",
        "        ]\n",
        "    ],\n",
        "}\n",
        "\n",
        "time_range = \"2020-12-01/2020-12-31\"\n",
        "\n",
        "search = catalog.search(\n",
        "    collections=[\"landsat-8-c2-l2\"], intersects=area_of_interest, datetime=time_range\n",
        ")\n",
        "```\n",
        "\n",
        "`items` is a\n",
        "[`pystac.ItemCollection`](https://pystac.readthedocs.io/en/stable/api/item_collection.html#pystac-item-collection).\n",
        "We can see that 4 items matched our search criteria."
      ],
      "id": "5fdbee9b-1d58-4000-9350-6d5698fdc07d"
    },
    {
      "cell_type": "code",
      "execution_count": null,
      "metadata": {
        "outputId": "ef6b7348-9b30-429d-90bd-2f6ad3ecf613"
      },
      "outputs": [],
      "source": [
        "len(items)"
      ],
      "id": "8"
    },
    {
      "cell_type": "markdown",
      "metadata": {},
      "source": [
        "Each\n",
        "[`pystac.Item`](https://pystac.readthedocs.io/en/stable/api/pystac.html#pystac.Item)\n",
        "in this `ItemCollection` includes all the metadata for that scene. [STAC\n",
        "Items](https://github.com/radiantearth/stac-spec/blob/master/item-spec/item-spec.md)\n",
        "are GeoJSON features, and so can be loaded by libraries like\n",
        "[geopandas](http://geopandas.readthedocs.io/)."
      ],
      "id": "93585d6d-8f21-4dcf-b72a-a2c2fd00e1c8"
    },
    {
      "cell_type": "code",
      "execution_count": null,
      "metadata": {
        "outputId": "e1ea3e84-6110-45a3-df0e-686ff2415877"
      },
      "outputs": [],
      "source": [
        "import geopandas\n",
        "\n",
        "df = geopandas.GeoDataFrame.from_features(items.to_dict(), crs=\"epsg:4326\")\n",
        "df"
      ],
      "id": "10"
    },
    {
      "cell_type": "markdown",
      "metadata": {},
      "source": [
        "We can use the `eo` extension to sort the items by cloudiness. We’ll\n",
        "grab an item with low cloudiness:"
      ],
      "id": "77c935d6-b00a-452b-aa7c-2cd7b30ecb8e"
    },
    {
      "cell_type": "code",
      "execution_count": null,
      "metadata": {
        "outputId": "40e48370-85dc-4062-b603-a968c6896d71"
      },
      "outputs": [],
      "source": [
        "selected_item = min(items, key=lambda item: item.properties[\"eo:cloud_cover\"])\n",
        "selected_item"
      ],
      "id": "12"
    },
    {
      "cell_type": "markdown",
      "metadata": {},
      "source": [
        "Each STAC item has one or more\n",
        "[Assets](https://github.com/radiantearth/stac-spec/blob/master/item-spec/item-spec.md#asset-object),\n",
        "which include links to the actual files."
      ],
      "id": "2e879dc8-0642-4d34-8933-47697f30de71"
    },
    {
      "cell_type": "code",
      "execution_count": null,
      "metadata": {
        "outputId": "9d0685a6-26bf-4302-829e-ab458d24814e"
      },
      "outputs": [],
      "source": [
        "import rich.table\n",
        "\n",
        "table = rich.table.Table(\"Asset Key\", \"Descripiption\")\n",
        "for asset_key, asset in selected_item.assets.items():\n",
        "    # print(f\"{asset_key:<25} - {asset.title}\")\n",
        "    table.add_row(asset_key, asset.title)\n",
        "\n",
        "table"
      ],
      "id": "14"
    },
    {
      "cell_type": "markdown",
      "metadata": {},
      "source": [
        "Here, we’ll inspect the `thumbnail` asset."
      ],
      "id": "51429d9c-3408-4d3b-98ee-a6625dd7f557"
    },
    {
      "cell_type": "code",
      "execution_count": null,
      "metadata": {
        "outputId": "e25f9c88-8901-45bf-8ef6-6f7064253e73"
      },
      "outputs": [],
      "source": [
        "selected_item.assets[\"thumbnail\"].to_dict()"
      ],
      "id": "16"
    },
    {
      "cell_type": "code",
      "execution_count": null,
      "metadata": {
        "outputId": "d11c6234-1c07-47d3-8919-ab14052eb5c5"
      },
      "outputs": [],
      "source": [
        "from IPython.display import Image\n",
        "\n",
        "Image(url=selected_item.assets[\"thumbnail\"].href, width=500)"
      ],
      "id": "17"
    },
    {
      "cell_type": "markdown",
      "metadata": {},
      "source": [
        "That `rendered_preview` asset is generated dynamically from the raw data\n",
        "using the Planetary Computer’s [data\n",
        "API](http://planetarycomputer.microsoft.com/api/data/v1/). We can access\n",
        "the raw data, stored as Cloud Optimzied GeoTIFFs in Azure Blob Storage,\n",
        "using one of the other assets. That said, we do need to do one more\n",
        "thing before accessing the data. If we simply made a request to the file\n",
        "in blob storage we’d get a 404:"
      ],
      "id": "a5110eda-411b-41a2-8d7f-1a1ca46dc059"
    },
    {
      "cell_type": "code",
      "execution_count": null,
      "metadata": {
        "outputId": "bcf2942c-4512-4f9d-8157-5306540d51f5"
      },
      "outputs": [],
      "source": [
        "import requests\n",
        "\n",
        "url = selected_item.assets[\"SR_B2\"].href\n",
        "print(\"Accessing\", url)\n",
        "response = requests.get(url)\n",
        "response"
      ],
      "id": "19"
    },
    {
      "cell_type": "markdown",
      "metadata": {},
      "source": [
        "That’s because the Plantary Computer uses Azure Blob Storage [SAS\n",
        "Tokens](https://docs.microsoft.com/en-us/azure/storage/common/storage-sas-overview#how-a-shared-access-signature-works)\n",
        "to enable access to our data, which allows us to provide the data for\n",
        "free to anyone, anywhere while maintaining some control over the amount\n",
        "of egress for datasets.\n",
        "\n",
        "To get a token for access, you can use the Planetary Computer’s [Data\n",
        "Authentication API](). You can access that anonymously, or you can\n",
        "provide an API Key for higher rate limits and longer-lived tokens.\n",
        "\n",
        "You can also use the\n",
        "[planetary-computer](https://github.com/microsoft/planetary-computer-sdk-for-python)\n",
        "package to generate tokens and sign asset HREFs for access. You can\n",
        "install via pip with\n",
        "\n",
        "    > pip install planetary-computer"
      ],
      "id": "51b88e5f-7386-44c5-8fbd-e9e45297e4aa"
    },
    {
      "cell_type": "code",
      "execution_count": null,
      "metadata": {},
      "outputs": [],
      "source": [
        "import planetary_computer\n",
        "\n",
        "# PC_SDK_SUBSCRIPTION_KEY\n",
        "signed_href = planetary_computer.sign(selected_item).assets[\"SR_B2\"].href"
      ],
      "id": "21"
    },
    {
      "cell_type": "markdown",
      "metadata": {},
      "source": [
        "We can load up that single COG using libraries like\n",
        "[rioxarray](https://corteva.github.io/rioxarray/html/rioxarray.html) or\n",
        "[rasterio](https://rasterio.readthedocs.io/en/latest/)"
      ],
      "id": "8dd93510-be09-4216-af8d-79b8f56aff15"
    },
    {
      "cell_type": "code",
      "execution_count": null,
      "metadata": {
        "outputId": "3ee84b3f-e1e6-4442-d528-b62f17d384e3"
      },
      "outputs": [],
      "source": [
        "# import xarray as xr\n",
        "import rioxarray\n",
        "\n",
        "ds = rioxarray.open_rasterio(signed_href, overview_level=4).squeeze()\n",
        "img = ds.plot(cmap=\"Blues\", add_colorbar=False)\n",
        "img.axes.set_axis_off();"
      ],
      "id": "23"
    },
    {
      "cell_type": "markdown",
      "metadata": {},
      "source": [
        "If you wish to work with multiple STAC items as a datacube, you can use\n",
        "libraries like [stackstac](https://stackstac.readthedocs.io/) or\n",
        "[odc-stac](https://odc-stac.readthedocs.io/en/latest/index.html)."
      ],
      "id": "bea85067-6786-43e3-95b8-523ac4c5dadc"
    },
    {
      "cell_type": "code",
      "execution_count": null,
      "metadata": {
        "outputId": "2c8f2a0f-f7e1-4c86-be4b-fd1459c17fce"
      },
      "outputs": [],
      "source": [
        "import stackstac\n",
        "\n",
        "ds = stackstac.stack(\n",
        "  planetary_computer.sign(items),\n",
        "  epsg=4326\n",
        ")\n",
        "ds"
      ],
      "id": "25"
    },
    {
      "cell_type": "markdown",
      "metadata": {},
      "source": [
        "### Searching on additional properties\n",
        "\n",
        "Previously, we searched for items by space and time. Because the\n",
        "Planetary Computer’s STAC API supports the\n",
        "[query](https://github.com/radiantearth/stac-api-spec/blob/master/fragments/query/README.md)\n",
        "parameter, you can search on additional properties on the STAC item.\n",
        "\n",
        "For example, collections like `sentinel-2-l2a` and `landsat-8-c2-l2`\n",
        "both implement the [`eo` STAC\n",
        "extension](https://github.com/stac-extensions/eo) and include an\n",
        "`eo:cloud_cover` property. Use `query={\"eo:cloud_cover\": {\"lt\": 20}}` to\n",
        "return only items that are less than 20% cloudy."
      ],
      "id": "49977972-426c-4aaa-b96c-13d1f1ae29a0"
    },
    {
      "cell_type": "code",
      "execution_count": null,
      "metadata": {},
      "outputs": [],
      "source": [
        "time_range = \"2020-12-01/2020-12-31\"\n",
        "bbox = [-122.2751, 47.5469, -121.9613, 47.7458]\n",
        "\n",
        "search = catalog.search(\n",
        "    collections=[\"sentinel-2-l2a\"],\n",
        "    bbox=bbox,\n",
        "    datetime=time_range,\n",
        "    query={\"eo:cloud_cover\": {\"lt\": 20}},\n",
        ")\n",
        "items = search.get_all_items()"
      ],
      "id": "27"
    },
    {
      "cell_type": "markdown",
      "metadata": {},
      "source": [
        "Other common uses of the `query` parameter is to filter a collection\n",
        "down to items of a specific type, For example, the\n",
        "[GOES-CMI](https://planetarycomputer.microsoft.com/dataset/goes-cmi)\n",
        "collection includes images from various when the satellite is in various\n",
        "modes, which produces images of either the Full Disk of the earth, the\n",
        "continental United States, or a mesoscale. You can use `goes:image-type`\n",
        "to filter down to just the ones you want."
      ],
      "id": "9e98cc5d-b39b-4e97-b68d-ed6484076813"
    },
    {
      "cell_type": "code",
      "execution_count": null,
      "metadata": {},
      "outputs": [],
      "source": [
        "search = catalog.search(\n",
        "    collections=[\"goes-cmi\"],\n",
        "    bbox=[-67.2729, 25.6000, -61.7999, 27.5423],\n",
        "    datetime=[\"2018-09-11T13:00:00Z\", \"2018-09-11T15:40:00Z\"],\n",
        "    query={\"goes:image-type\": {\"eq\": \"MESOSCALE\"}},\n",
        ")"
      ],
      "id": "29"
    },
    {
      "cell_type": "markdown",
      "metadata": {},
      "source": [
        "### Analyzing STAC Metadata\n",
        "\n",
        "STAC items are proper GeoJSON Features, and so can be treated as a kind\n",
        "of data on their own."
      ],
      "id": "74b2e51c-f21e-4cc0-9d86-99e74e1be926"
    },
    {
      "cell_type": "code",
      "execution_count": null,
      "metadata": {
        "outputId": "db8a2006-8183-4432-9fb2-2a6ecd8d8eba",
        "tags": []
      },
      "outputs": [],
      "source": [
        "search = catalog.search(\n",
        "    collections=[\"sentinel-2-l2a\"],\n",
        "    bbox=[-124.2751, 45.5469, -110.9613, 47.7458],\n",
        "    datetime=\"2020-12-26/2020-12-31\",\n",
        ")\n",
        "items = search.get_all_items()\n",
        "\n",
        "df = geopandas.GeoDataFrame.from_features(items.to_dict(), crs=\"epsg:4326\")\n",
        "\n",
        "df[[\"geometry\", \"datetime\", \"s2:mgrs_tile\", \"eo:cloud_cover\"]].explore(\n",
        "    column=\"eo:cloud_cover\", style_kwds={\"fillOpacity\": 0.1}\n",
        ")"
      ],
      "id": "31"
    },
    {
      "cell_type": "markdown",
      "metadata": {},
      "source": [
        "Or we can plot cloudiness of a region over time."
      ],
      "id": "67918e82-393b-4d3a-a3b9-3167a7e0b130"
    },
    {
      "cell_type": "code",
      "execution_count": null,
      "metadata": {},
      "outputs": [],
      "source": [
        "import pandas as pd\n",
        "\n",
        "search = catalog.search(\n",
        "    collections=[\"sentinel-2-l2a\"],\n",
        "    bbox=[-124.2751, 45.5469, -123.9613, 45.7458],\n",
        "    datetime=\"2020-01-01/2020-12-31\",\n",
        ")\n",
        "items = search.get_all_items()\n",
        "df = geopandas.GeoDataFrame.from_features(items.to_dict())\n",
        "df[\"datetime\"] = pd.to_datetime(df[\"datetime\"])"
      ],
      "id": "33"
    },
    {
      "cell_type": "code",
      "execution_count": null,
      "metadata": {
        "outputId": "daf0ab97-3f8e-4f87-9739-e01233da529f"
      },
      "outputs": [],
      "source": [
        "ts = df.set_index(\"datetime\").sort_index()[\"eo:cloud_cover\"].rolling(7).mean()\n",
        "ts.plot(title=\"eo:cloud-cover (7-scene rolling average)\");"
      ],
      "id": "34"
    },
    {
      "cell_type": "markdown",
      "metadata": {},
      "source": [
        "### Working with STAC Catalogs and Collections\n",
        "\n",
        "Our `catalog` is a [STAC\n",
        "Catalog](https://github.com/radiantearth/stac-spec/blob/master/catalog-spec/catalog-spec.md)\n",
        "that we can crawl or search. The Catalog contains [STAC\n",
        "Collections](https://github.com/radiantearth/stac-spec/blob/master/collection-spec/collection-spec.md)\n",
        "for each dataset we have indexed (which is not the yet the entirity of\n",
        "data hosted by the Planetary Computer).\n",
        "\n",
        "Collections have information about the [STAC\n",
        "Items](https://github.com/radiantearth/stac-spec/blob/master/item-spec/item-spec.md)\n",
        "they contain. For instance, here we look at the\n",
        "[Bands](https://github.com/stac-extensions/eo#band-object) available for\n",
        "[Landsat Collection 2 Level\n",
        "2](https://planetarycomputer.microsoft.com/dataset/landsat-c2-l2) data:"
      ],
      "id": "986d38ea-bbf1-4956-a96b-cd64591bbeea"
    },
    {
      "cell_type": "code",
      "execution_count": null,
      "metadata": {
        "outputId": "8d9437ba-0003-47ac-dfbc-65596e7f0780"
      },
      "outputs": [],
      "source": [
        "import pandas as pd\n",
        "\n",
        "landsat = catalog.get_collection(\"landsat-c2-l2\")\n",
        "\n",
        "bands = [k for k,v in landsat.extra_fields['item_assets'].items() if 'data' in v['roles']]\n",
        "pd.DataFrame(bands)"
      ],
      "id": "36"
    },
    {
      "cell_type": "markdown",
      "metadata": {},
      "source": [
        "We can see what\n",
        "[Assets](https://github.com/radiantearth/stac-spec/blob/master/item-spec/item-spec.md#asset-object)\n",
        "are available on our item with:"
      ],
      "id": "9c1d9c9e-9c4d-49da-acf3-35743829ce61"
    },
    {
      "cell_type": "code",
      "execution_count": null,
      "metadata": {
        "outputId": "8a0cc965-0cbd-450a-a716-3079a4d9b807"
      },
      "outputs": [],
      "source": [
        "pd.DataFrame.from_dict(landsat.extra_fields[\"item_assets\"], orient=\"index\")[\n",
        "    [\"title\", \"description\", \"gsd\"]\n",
        "]"
      ],
      "id": "38"
    },
    {
      "cell_type": "markdown",
      "metadata": {},
      "source": [
        "Some collections, like\n",
        "[Daymet](https://planetarycomputer.microsoft.com/dataset/daymet-daily-na)\n",
        "include collection-level assets. You can use the `.assets` property to\n",
        "access those assets."
      ],
      "id": "c461b9c5-107a-4f99-86aa-8027a2da0b20"
    },
    {
      "cell_type": "code",
      "execution_count": null,
      "metadata": {
        "outputId": "199cdcaa-fb4a-40cc-bf5d-b8a73aa94a7a"
      },
      "outputs": [],
      "source": [
        "collection = catalog.get_collection(\"daymet-daily-na\")\n",
        "collection"
      ],
      "id": "40"
    },
    {
      "cell_type": "markdown",
      "metadata": {},
      "source": [
        "Just like assets on items, these assets include links to data in Azure\n",
        "Blob Storage."
      ],
      "id": "7edeb506-e7d0-4af9-91f9-8517b9b40bc3"
    },
    {
      "cell_type": "code",
      "execution_count": null,
      "metadata": {
        "outputId": "3b2c42a4-2e09-4a71-d174-73a4a297c373"
      },
      "outputs": [],
      "source": [
        "asset = collection.assets[\"zarr-https\"]\n",
        "asset"
      ],
      "id": "42"
    },
    {
      "cell_type": "code",
      "execution_count": null,
      "metadata": {
        "outputId": "db6fe215-273d-4a61-f6f2-df25e76aea25"
      },
      "outputs": [],
      "source": [
        "import fsspec\n",
        "import xarray as xr\n",
        "\n",
        "store = fsspec.get_mapper(asset.href)\n",
        "ds = xr.open_zarr(store, **asset.extra_fields[\"xarray:open_kwargs\"])\n",
        "ds"
      ],
      "id": "43"
    }
  ],
  "nbformat": 4,
  "nbformat_minor": 5,
  "metadata": {
    "colab": {
      "provenance": []
    },
    "kernelspec": {
      "name": "python3",
      "display_name": "default",
      "language": "python"
    },
    "language_info": {
      "name": "python",
      "codemirror_mode": {
        "name": "ipython",
        "version": "3"
      },
      "file_extension": ".py",
      "mimetype": "text/x-python",
      "nbconvert_exporter": "python",
      "pygments_lexer": "ipython3",
      "version": "3.12.0"
    }
  }
}